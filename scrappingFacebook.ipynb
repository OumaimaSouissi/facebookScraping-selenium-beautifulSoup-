{
 "cells": [
  {
   "cell_type": "markdown",
   "id": "d82b1c50",
   "metadata": {},
   "source": [
    "# QUESTION3 - SOUISSI Oumaima"
   ]
  },
  {
   "cell_type": "markdown",
   "id": "8d60ab32",
   "metadata": {},
   "source": [
    "Import the required libraries"
   ]
  },
  {
   "cell_type": "code",
   "execution_count": 1,
   "id": "56a7fdc5",
   "metadata": {},
   "outputs": [],
   "source": [
    "from selenium import webdriver \n",
    "from pymongo import MongoClient\n",
    "from bs4 import BeautifulSoup\n",
    "from selenium.webdriver.support.wait import WebDriverWait\n",
    "from selenium.webdriver.support import expected_conditions as EC\n",
    "from selenium.webdriver.common.by import By\n",
    "import pymongo\n",
    "import requests\n",
    "from time import sleep\n",
    "import urllib.request\n",
    "import os"
   ]
  },
  {
   "cell_type": "markdown",
   "id": "0045b594",
   "metadata": {},
   "source": [
    "using the Chrome driver for Selenium"
   ]
  },
  {
   "cell_type": "code",
   "execution_count": 2,
   "id": "7ee136da",
   "metadata": {},
   "outputs": [
    {
     "name": "stderr",
     "output_type": "stream",
     "text": [
      "C:\\Users\\ADMIN\\AppData\\Local\\Temp\\ipykernel_20948\\2273809482.py:1: DeprecationWarning: executable_path has been deprecated, please pass in a Service object\n",
      "  browser = webdriver.Chrome(r'C:\\chromedriver.exe')\n"
     ]
    }
   ],
   "source": [
    "browser = webdriver.Chrome(r'C:\\chromedriver.exe')"
   ]
  },
  {
   "cell_type": "markdown",
   "id": "d3257cfa",
   "metadata": {},
   "source": [
    "Go to the url 'https://mbasic.facebook.com'"
   ]
  },
  {
   "cell_type": "code",
   "execution_count": 3,
   "id": "3c6b8b81",
   "metadata": {},
   "outputs": [],
   "source": [
    "browser.get('https://mbasic.facebook.com/')"
   ]
  },
  {
   "cell_type": "markdown",
   "id": "fa014130",
   "metadata": {},
   "source": [
    "Connexion to facebook account"
   ]
  },
  {
   "cell_type": "code",
   "execution_count": 4,
   "id": "d4778e3a",
   "metadata": {},
   "outputs": [],
   "source": [
    "#target username and password\n",
    "username = WebDriverWait(browser, 10).until(EC.element_to_be_clickable((By.CSS_SELECTOR, \"input[name='email']\")))\n",
    "password = WebDriverWait(browser, 10).until(EC.element_to_be_clickable((By.CSS_SELECTOR, \"input[name='pass']\")))\n",
    "\n",
    "#enter username and password\n",
    "username.clear()\n",
    "username.send_keys(\"oumaima@gmail.com\")\n",
    "password.clear()\n",
    "password.send_keys(\"*************************;\")\n",
    "\n",
    "#target the login button and click it\n",
    "login_btn = browser.find_element(By.XPATH,'//*[@id=\"login_form\"]/ul/li[3]/input')\n",
    "login_btn.click()"
   ]
  },
  {
   "cell_type": "markdown",
   "id": "4efe8267",
   "metadata": {},
   "source": [
    "Skip remember popup"
   ]
  },
  {
   "cell_type": "code",
   "execution_count": 5,
   "id": "d2a9917e",
   "metadata": {},
   "outputs": [],
   "source": [
    "login_btn = browser.find_element(By.XPATH,'//*[@id=\"root\"]/table/tbody/tr/td/div/div[3]/a')\n",
    "login_btn.click()"
   ]
  },
  {
   "cell_type": "markdown",
   "id": "f5328071",
   "metadata": {},
   "source": [
    "Search GPT-4"
   ]
  },
  {
   "cell_type": "code",
   "execution_count": 8,
   "id": "64ca65b6",
   "metadata": {},
   "outputs": [],
   "source": [
    "search = WebDriverWait(browser, 10).until(EC.element_to_be_clickable((By.CSS_SELECTOR, \"input[name='query']\")))\n",
    "\n",
    "#enter desired Hashtag\n",
    "search.clear()\n",
    "search.send_keys(\"#ChatGPT-4\")\n",
    "\n",
    "#search button click\n",
    "login_btn = browser.find_element(By.XPATH,'//*[@id=\"header\"]/form/table/tbody/tr/td[3]/input')\n",
    "login_btn.click()"
   ]
  },
  {
   "cell_type": "markdown",
   "id": "50a9a956",
   "metadata": {},
   "source": [
    "Specify the location of the 'Pictures' folder where we will save the images of the posts"
   ]
  },
  {
   "cell_type": "code",
   "execution_count": 9,
   "id": "77155185",
   "metadata": {},
   "outputs": [],
   "source": [
    "list_dir=\"C:\\\\\"\n",
    "default_dir = os.path.join(list_dir,\"C:/Users/ADMIN/Desktop/Pictures\")\n",
    "opener = urllib.request.build_opener()\n",
    "urllib.request.install_opener(opener)"
   ]
  },
  {
   "cell_type": "markdown",
   "id": "5233efe2",
   "metadata": {},
   "source": [
    "Parse html pages and extract data"
   ]
  },
  {
   "cell_type": "code",
   "execution_count": 23,
   "id": "1e2415e7",
   "metadata": {},
   "outputs": [],
   "source": [
    "posts = browser.find_elements(By.XPATH,'//*[@id=\"root\"]/div[1]')\n",
    "for post in posts:\n",
    "    links = post.find_elements(By.LINK_TEXT,\"Alhurra قناة الحرة\")"
   ]
  },
  {
   "cell_type": "code",
   "execution_count": 24,
   "id": "187a8d5d",
   "metadata": {},
   "outputs": [],
   "source": [
    "    pubs = []\n",
    "    for link in links:\n",
    "        pub = {}\n",
    "        page_content = requests.get(link.get_attribute('href')).content\n",
    "        soup = BeautifulSoup(page_content, 'html.parser')\n",
    "        #get post text\n",
    "        pub['text'] = soup.p.text\n",
    "        pub['image'] = soup.img[\"src\"]\n",
    "        img_url = soup.img[\"src\"]\n",
    "        filename = os.path.join(default_dir, img_url.split(\"/\")[-1])\n",
    "        img_data = opener.open(img_url)\n",
    "        f = open(filename,\"wb\")\n",
    "        f.write(img_data.read())\n",
    "        f.close()\n",
    "        pubs.append(pub)"
   ]
  },
  {
   "cell_type": "markdown",
   "id": "bbe88aa9",
   "metadata": {},
   "source": [
    "Verify data recuperation"
   ]
  },
  {
   "cell_type": "code",
   "execution_count": 25,
   "id": "adb34b31",
   "metadata": {},
   "outputs": [
    {
     "data": {
      "text/plain": [
       "[{'text': 'تطورات انتحار \"السعودية المتحولة جنسيا\".. بدء تحقيق رسمي في القضية',\n",
       "  'image': 'https://static.xx.fbcdn.net/rsrc.php/v3/y8/r/k97pj8-or6s.png'},\n",
       " {'text': 'تطورات انتحار \"السعودية المتحولة جنسيا\".. بدء تحقيق رسمي في القضية',\n",
       "  'image': 'https://static.xx.fbcdn.net/rsrc.php/v3/y8/r/k97pj8-or6s.png'},\n",
       " {'text': 'تطورات انتحار \"السعودية المتحولة جنسيا\".. بدء تحقيق رسمي في القضية',\n",
       "  'image': 'https://static.xx.fbcdn.net/rsrc.php/v3/y8/r/k97pj8-or6s.png'},\n",
       " {'text': 'تطورات انتحار \"السعودية المتحولة جنسيا\".. بدء تحقيق رسمي في القضية',\n",
       "  'image': 'https://static.xx.fbcdn.net/rsrc.php/v3/y8/r/k97pj8-or6s.png'},\n",
       " {'text': 'تطورات انتحار \"السعودية المتحولة جنسيا\".. بدء تحقيق رسمي في القضية',\n",
       "  'image': 'https://static.xx.fbcdn.net/rsrc.php/v3/y8/r/k97pj8-or6s.png'}]"
      ]
     },
     "execution_count": 25,
     "metadata": {},
     "output_type": "execute_result"
    }
   ],
   "source": [
    "pubs"
   ]
  },
  {
   "cell_type": "markdown",
   "id": "1b69fd75",
   "metadata": {},
   "source": [
    "MongoDB deployment's connection string."
   ]
  },
  {
   "cell_type": "code",
   "execution_count": 26,
   "id": "fbc3878f",
   "metadata": {},
   "outputs": [
    {
     "name": "stdout",
     "output_type": "stream",
     "text": [
      "{'version': '6.0.4', 'gitVersion': '44ff59461c1353638a71e710f385a566bcd2f547', 'targetMinOS': 'Windows 7/Windows Server 2008 R2', 'modules': [], 'allocator': 'tcmalloc', 'javascriptEngine': 'mozjs', 'sysInfo': 'deprecated', 'versionArray': [6, 0, 4, 0], 'openssl': {'running': 'Windows SChannel'}, 'buildEnvironment': {'distmod': 'windows', 'distarch': 'x86_64', 'cc': 'cl: Microsoft (R) C/C++ Optimizing Compiler Version 19.31.31107 for x64', 'ccflags': '/nologo /WX /FImongo/platform/basic.h /fp:strict /EHsc /W3 /wd4068 /wd4244 /wd4267 /wd4290 /wd4351 /wd4355 /wd4373 /wd4800 /wd4251 /wd4291 /we4013 /we4099 /we4930 /errorReport:none /MD /O2 /Oy- /bigobj /utf-8 /permissive- /Zc:__cplusplus /Zc:sizedDealloc /volatile:iso /diagnostics:caret /std:c++17 /Gw /Gy /Zc:inline', 'cxx': 'cl: Microsoft (R) C/C++ Optimizing Compiler Version 19.31.31107 for x64', 'cxxflags': '/TP', 'linkflags': '/nologo /DEBUG /INCREMENTAL:NO /LARGEADDRESSAWARE /OPT:REF', 'target_arch': 'x86_64', 'target_os': 'windows', 'cppdefines': 'SAFEINT_USE_INTRINSICS 0 PCRE_STATIC NDEBUG BOOST_ALL_NO_LIB _UNICODE UNICODE _SILENCE_CXX17_ALLOCATOR_VOID_DEPRECATION_WARNING _SILENCE_CXX17_OLD_ALLOCATOR_MEMBERS_DEPRECATION_WARNING _SILENCE_CXX17_CODECVT_HEADER_DEPRECATION_WARNING _SILENCE_ALL_CXX20_DEPRECATION_WARNINGS _CONSOLE _CRT_SECURE_NO_WARNINGS _ENABLE_EXTENDED_ALIGNED_STORAGE _SCL_SECURE_NO_WARNINGS _WIN32_WINNT 0x0A00 BOOST_USE_WINAPI_VERSION 0x0A00 NTDDI_VERSION 0x0A000000 BOOST_THREAD_VERSION 5 BOOST_THREAD_USES_DATETIME BOOST_SYSTEM_NO_DEPRECATED BOOST_MATH_NO_LONG_DOUBLE_MATH_FUNCTIONS BOOST_ENABLE_ASSERT_DEBUG_HANDLER BOOST_LOG_NO_SHORTHAND_NAMES BOOST_LOG_USE_NATIVE_SYSLOG BOOST_LOG_WITHOUT_THREAD_ATTR ABSL_FORCE_ALIGNED_ACCESS'}, 'bits': 64, 'debug': False, 'maxBsonObjectSize': 16777216, 'storageEngines': ['devnull', 'ephemeralForTest', 'wiredTiger'], 'ok': 1.0}\n"
     ]
    }
   ],
   "source": [
    "conn_str = \"mongodb://localhost/oumaimasouissi?directConnection=true&serverSelectionTimeoutMS=2000&appName=mongosh+1.8.0\"\n",
    "\n",
    "# set a 5-second connection timeout\n",
    "client = pymongo.MongoClient(conn_str, serverSelectionTimeoutMS=5000)\n",
    "\n",
    "try:\n",
    "    print(client.server_info())\n",
    "except Exception:\n",
    "    print(\"Unable to connect to the server.\")"
   ]
  },
  {
   "cell_type": "markdown",
   "id": "d6f9d1c3",
   "metadata": {},
   "source": [
    "Insert the list of dicts"
   ]
  },
  {
   "cell_type": "code",
   "execution_count": 27,
   "id": "1a93c112",
   "metadata": {},
   "outputs": [
    {
     "data": {
      "text/plain": [
       "<pymongo.results.InsertManyResult at 0x189baf99670>"
      ]
     },
     "execution_count": 27,
     "metadata": {},
     "output_type": "execute_result"
    }
   ],
   "source": [
    "mydb = client[\"facebook\"]\n",
    "mycol = mydb[\"posts\"]\n",
    "\n",
    "mycol.insert_many(pubs)"
   ]
  },
  {
   "cell_type": "markdown",
   "id": "b8f20eee",
   "metadata": {},
   "source": [
    "Show a sample "
   ]
  },
  {
   "cell_type": "code",
   "execution_count": 28,
   "id": "ff3c231d",
   "metadata": {},
   "outputs": [
    {
     "data": {
      "text/plain": [
       "{'_id': ObjectId('6414e6c198e0798cbadb0149'),\n",
       " 'text': '\"اللاذقية آمنة\".. تعليق دنماركي يثير مخاوف \"المفوضية السامية للاجئين\"',\n",
       " 'image': 'https://static.xx.fbcdn.net/rsrc.php/v3/y8/r/k97pj8-or6s.png'}"
      ]
     },
     "execution_count": 28,
     "metadata": {},
     "output_type": "execute_result"
    }
   ],
   "source": [
    "mycol.find_one()"
   ]
  },
  {
   "cell_type": "code",
   "execution_count": null,
   "id": "59cf6ff1",
   "metadata": {},
   "outputs": [],
   "source": []
  }
 ],
 "metadata": {
  "kernelspec": {
   "display_name": "Python 3 (ipykernel)",
   "language": "python",
   "name": "python3"
  },
  "language_info": {
   "codemirror_mode": {
    "name": "ipython",
    "version": 3
   },
   "file_extension": ".py",
   "mimetype": "text/x-python",
   "name": "python",
   "nbconvert_exporter": "python",
   "pygments_lexer": "ipython3",
   "version": "3.9.13"
  }
 },
 "nbformat": 4,
 "nbformat_minor": 5
}
